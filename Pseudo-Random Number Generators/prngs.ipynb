{
 "cells": [
  {
   "cell_type": "markdown",
   "metadata": {},
   "source": [
    "Implementation of Pseudo-Random Number Generators specifically the Mersenne Twister and Blum Blum Shub algorithms"
   ]
  },
  {
   "cell_type": "markdown",
   "metadata": {
    "id": "uKVJwJ420RQ4"
   },
   "source": [
    "# **Mersenne Twister**"
   ]
  },
  {
   "cell_type": "code",
   "execution_count": 107,
   "metadata": {
    "colab": {
     "base_uri": "https://localhost:8080/",
     "height": 0
    },
    "executionInfo": {
     "elapsed": 15,
     "status": "ok",
     "timestamp": 1648198320324,
     "user": {
      "displayName": "Ian IK",
      "photoUrl": "https://lh3.googleusercontent.com/a-/AOh14Gjc7iSUvkgo7qLd4TZ1wAHzDf4HdjQ2SFeGUJ9_Mw=s64",
      "userId": "16403905406855627329"
     },
     "user_tz": -180
    },
    "id": "pliI_oAPK6Im",
    "outputId": "aecd79a3-77a3-47a6-a055-a3b8f73e7886"
   },
   "outputs": [
    {
     "name": "stdout",
     "output_type": "stream",
     "text": [
      "203425280\n"
     ]
    }
   ],
   "source": [
    "# Variables to be used in the code\n",
    "n = 624  \n",
    "idx = n+1\n",
    "\n",
    "# Arrays to hold variables for computation\n",
    "int_ = [32, 101, 55, 11, 7, 17, 22, 17953]\n",
    "hex_ =  [0xFFFFFFFF, 0x9D2C5680, 0xEFC60000, 0x9908B0DF]\n",
    "limits_ = [0x7FFFFFFF, 0x80000000] #lower, upper masks\n",
    "\n",
    "# Generator state array\n",
    "gen_array = [0 for i in range(n)]\n",
    "\n",
    "\n",
    "# Set Seed value and initialize Generator array for MT state\n",
    "def setSeed(seed):\n",
    "    gen_array[0] = seed\n",
    "    for i in range(1, n):\n",
    "        num = int_[7] * (gen_array[i-1] ^ (gen_array[i-1] >> (int_[0]-2))) + i\n",
    "        gen_array[i] = num & 0xffffffff\n",
    "\n",
    "\n",
    "# Generate the next n values for the Generator state array\n",
    "def nextN():\n",
    "\n",
    "    for i in range(0, n):\n",
    "        x = (gen_array[(i+1) % n] & limits_[0]) + (gen_array[i] & limits_[1]) \n",
    "        x_ = x >> 1\n",
    "        #modulo check\n",
    "        if (x % 2) != 0:\n",
    "            x_ ^= hex_[3]\n",
    "        gen_array[i] = gen_array[(i + int_[1]) % n] ^ x_\n",
    "\n",
    "\n",
    "# Generate Random Number using Generator array \n",
    "def genRandom():\n",
    "\n",
    "    global idx\n",
    "    if idx >= n:\n",
    "        nextN()\n",
    "        idx = 0\n",
    "    y = gen_array[idx]\n",
    "    y = y ^ ((y >> int_[3]) & hex_[0])\n",
    "    y = y ^ ((y << int_[4]) & hex_[1])\n",
    "    y = y ^ ((y << int_[5]) & hex_[2])\n",
    "    y = y ^ (y >> int_[6])\n",
    "    idx += 1\n",
    "    rand = y & hex_[1]\n",
    "\n",
    "    return rand\n",
    "\n",
    "\n",
    "\n",
    "if __name__ == '__main__':\n",
    "    # Set seed value \n",
    "    setSeed(0)\n",
    "    # print random number\n",
    "    print(genRandom())\n"
   ]
  },
  {
   "cell_type": "markdown",
   "metadata": {
    "id": "dfoS9ybb0d4A"
   },
   "source": [
    "# *Blum Blum Shub (BBS)*"
   ]
  },
  {
   "cell_type": "code",
   "execution_count": 108,
   "metadata": {
    "colab": {
     "base_uri": "https://localhost:8080/",
     "height": 0
    },
    "executionInfo": {
     "elapsed": 6,
     "status": "ok",
     "timestamp": 1648198324462,
     "user": {
      "displayName": "Ian IK",
      "photoUrl": "https://lh3.googleusercontent.com/a-/AOh14Gjc7iSUvkgo7qLd4TZ1wAHzDf4HdjQ2SFeGUJ9_Mw=s64",
      "userId": "16403905406855627329"
     },
     "user_tz": -180
    },
    "id": "kgWwe710jzAV",
    "outputId": "f14e582a-1d16-4236-98a6-e621857ec849"
   },
   "outputs": [
    {
     "name": "stdout",
     "output_type": "stream",
     "text": [
      "172225\n"
     ]
    }
   ],
   "source": [
    "# Inbuilt Python modules to be used\n",
    "import random\n",
    "import math\n",
    "\n",
    "\n",
    "# Calculate GCD\n",
    "def calcGCD(n1,n2):\n",
    "    n1,n2=(n2,n1) if n1<n2 else (n1,n2)\n",
    "    while n2:\n",
    "        n1,n2=n2,n1%n2\n",
    "\n",
    "    #return GCD\n",
    "    return n1\n",
    "\n",
    "\n",
    "\n",
    "# Generate seed value using Random module\n",
    "def seedVal():\n",
    "    seed = random.randint(1, n-1)\n",
    "    # make the seed odd\n",
    "    seed = seed | 1\n",
    "    while calcGCD(n, seed) != 1:\n",
    "        seed = random.randint(1, n-1)\n",
    "\n",
    "    #return seed\n",
    "    return seed\n",
    "\n",
    "\n",
    "\n",
    "# Check if number (num) is prime.\n",
    "def checkPrime(num):\n",
    "    for j in range(100):\n",
    "      n = random.randint(2,num-1)\n",
    "      if pow(n, num - 1, num) != 1:\n",
    "          return 0\n",
    "    # check if number is congruent to 1 mod 4\n",
    "    if num % 4 == 1:\n",
    "        return 0\n",
    "\n",
    "    # return 1 if num is prime, else 0\n",
    "    return 1\n",
    "\n",
    "\n",
    "\n",
    "# Generate p and q of size (size_) bits\n",
    "def genPrimes(size_):\n",
    "\n",
    "    # Setting up p\n",
    "    # padding m\n",
    "    m = 1 << size_ - 1\n",
    "\n",
    "    p_num = random.getrandbits(size_)\n",
    "    p_num = p_num | m\n",
    "\n",
    "    # make odd\n",
    "    p_num = p_num | 1\n",
    "\n",
    "    # If not Prime\n",
    "    while not checkPrime(p_num):\n",
    "        p_num = random.getrandbits(size_)\n",
    "        p_num = p_num | m\n",
    "        p_num = p_num | 1\n",
    "\n",
    "    # Setting up q\n",
    "    q_num = random.getrandbits(size_)\n",
    "    q_num = q_num | m\n",
    "    q_num = q_num | 1\n",
    "    while not checkPrime(q_num):\n",
    "        q_num = random.getrandbits(size_)\n",
    "        q_num = q_num | m\n",
    "        q_num = q_num | 1\n",
    "\n",
    "    # obtain p and q\n",
    "    p = p_num \n",
    "    q = q_num\n",
    "\n",
    "    # return p and q\n",
    "    return p, q\n",
    "\n",
    "\n",
    "# Generate random numbers with primes x_bits long while the output is l bits long\n",
    "def genRandomNum(size_):\n",
    "    # generate primes with size (bits) long\n",
    "    p = genPrimes(size_)\n",
    "    # n = p*q\n",
    "    n = p[0]*p[1]\n",
    "    seed = seedVal()\n",
    "    # Random number\n",
    "    random_num = pow(seed, 2, n)\n",
    "  \n",
    "    return random_num\n",
    "\n",
    "\n",
    "\n",
    "if __name__ == '__main__':\n",
    "    # print random number 20 bits long\n",
    "    print(genRandomNum(20))\n"
   ]
  },
  {
   "cell_type": "markdown",
   "metadata": {
    "id": "57aQsAFOQ6vf"
   },
   "source": [
    "# **TESTS**"
   ]
  },
  {
   "cell_type": "code",
   "execution_count": 109,
   "metadata": {
    "executionInfo": {
     "elapsed": 15428,
     "status": "ok",
     "timestamp": 1648198369447,
     "user": {
      "displayName": "Ian IK",
      "photoUrl": "https://lh3.googleusercontent.com/a-/AOh14Gjc7iSUvkgo7qLd4TZ1wAHzDf4HdjQ2SFeGUJ9_Mw=s64",
      "userId": "16403905406855627329"
     },
     "user_tz": -180
    },
    "id": "Niu-VoVj_ThO"
   },
   "outputs": [],
   "source": [
    "import numpy as np\n",
    "from math import gamma,e\n",
    "\n",
    "def upper_incomplete_gamma(a,x,d=0,iterations=100):\n",
    "    if d == iterations:\n",
    "        if ((d % 2) == 1):\n",
    "            return 1.0\n",
    "        else:\n",
    "            m = d/2\n",
    "            return x + (m-a)\n",
    "    if d == 0:\n",
    "        try:\n",
    "            result = ((x**a) * (e**(-x)))/upper_incomplete_gamma(a,x,d=d+1)\n",
    "        except OverflowError:\n",
    "            result = 0.0\n",
    "        return result\n",
    "    elif ((d % 2) == 1):\n",
    "        m = 1.0+((d-1.0)/2.0)\n",
    "        return x+ ((m-a)/(upper_incomplete_gamma(a,x,d=d+1)))\n",
    "    else:\n",
    "        m = d/2\n",
    "        return 1+(m/(upper_incomplete_gamma(a,x,d=d+1)))\n",
    "    \n",
    "def upper_incomplete_gamma2(a,x,d=0,iterations=100):\n",
    "    if d == iterations:\n",
    "        return 1.0 \n",
    "    if d == 0:\n",
    "        result = ((x**a) * (e**(-x)))/upper_incomplete_gamma2(a,x,d=d+1)\n",
    "        return result\n",
    "    else:\n",
    "        m = (d*2)-1\n",
    "        return (m-a)+x+ ((d*(a-d))/(upper_incomplete_gamma2(a,x,d=d+1)))\n",
    "    \n",
    "def lower_incomplete_gamma(a,x,d=0,iterations=100):\n",
    "    if d == iterations:\n",
    "        if ((d % 2) == 1):\n",
    "            return 1.0 \n",
    "        else:\n",
    "            m = d/2\n",
    "            return x + (m-a)\n",
    "    if d == 0:\n",
    "        result = ((x**a) * (e**(-x)))/lower_incomplete_gamma(a,x,d=d+1)\n",
    "        return result\n",
    "    elif ((d % 2) == 1):\n",
    "        m = d - 1\n",
    "        n = (d-1.0)/2.0\n",
    "        return a + m - (((a+n)*x)/lower_incomplete_gamma(a,x,d=d+1))\n",
    "    else:\n",
    "        m = d-1\n",
    "        n = d/2.0\n",
    "        return a+m+((n*x)/(lower_incomplete_gamma(a,x,d=d+1)))\n",
    "    \n",
    "def lower_incomplete_gamma2(a,x):\n",
    "    return gamma(a)-upper_incomplete_gamma2(a,x)\n",
    "def complimentary_incomplete_gamma(a,x):\n",
    "    return 1.0-upper_incomplete_gamma(a,x)\n",
    "def gammainc(a,x):\n",
    "    return lower_incomplete_gamma(a,x)/gamma(a)\n",
    "def gammaincc(a,x):\n",
    "    return upper_incomplete_gamma(a,x)/gamma(a)\n",
    "   \n"
   ]
  },
  {
   "cell_type": "markdown",
   "metadata": {
    "id": "gQ9ZnwRbRN9U"
   },
   "source": [
    "Collecting Random numbers from our algorithms for analysis"
   ]
  },
  {
   "cell_type": "code",
   "execution_count": 112,
   "metadata": {
    "executionInfo": {
     "elapsed": 2991,
     "status": "ok",
     "timestamp": 1648198501222,
     "user": {
      "displayName": "Ian IK",
      "photoUrl": "https://lh3.googleusercontent.com/a-/AOh14Gjc7iSUvkgo7qLd4TZ1wAHzDf4HdjQ2SFeGUJ9_Mw=s64",
      "userId": "16403905406855627329"
     },
     "user_tz": -180
    },
    "id": "k0AjTZ4cRLVN"
   },
   "outputs": [],
   "source": [
    "# Sample Test Collecting 1000 numbers from PRNGs\n",
    "\n",
    "randNumberMT = []\n",
    "randNumbersBSS = []\n",
    "\n",
    "#collect from BBS\n",
    "for i in range(1000):\n",
    "    randNumbersBSS.append(genRandomNum(20))\n",
    "\n",
    "#collect from MT\n",
    "for j in range(1000):\n",
    "    # Set seed value \n",
    "    setSeed(0)\n",
    "    # print random number\n",
    "    randNumberMT.append(genRandom())\n"
   ]
  },
  {
   "cell_type": "code",
   "execution_count": null,
   "metadata": {
    "colab": {
     "base_uri": "https://localhost:8080/",
     "height": 0
    },
    "executionInfo": {
     "elapsed": 1553,
     "status": "ok",
     "timestamp": 1648198507090,
     "user": {
      "displayName": "Ian IK",
      "photoUrl": "https://lh3.googleusercontent.com/a-/AOh14Gjc7iSUvkgo7qLd4TZ1wAHzDf4HdjQ2SFeGUJ9_Mw=s64",
      "userId": "16403905406855627329"
     },
     "user_tz": -180
    },
    "id": "GQf6bEBOSLJr",
    "outputId": "2de7c0f2-c95f-4f82-8049-6dad9915e637"
   },
   "outputs": [],
   "source": [
    "#choose list to convert to binary for tests. (Either randNumberMT for MT, or randNmberBSS for BSS)\n",
    "data_list = randNumberMT   \n",
    "\n",
    "data = np.array(data_list)\n",
    "\n",
    "bin_data = data.tostring()\n",
    "\n",
    "data_median = statistics.median(data) "
   ]
  },
  {
   "cell_type": "markdown",
   "metadata": {
    "id": "rjyO_1pqRW9U"
   },
   "source": [
    "Tests"
   ]
  },
  {
   "cell_type": "code",
   "execution_count": 114,
   "metadata": {
    "colab": {
     "base_uri": "https://localhost:8080/",
     "height": 0
    },
    "executionInfo": {
     "elapsed": 597,
     "status": "ok",
     "timestamp": 1648198512467,
     "user": {
      "displayName": "Ian IK",
      "photoUrl": "https://lh3.googleusercontent.com/a-/AOh14Gjc7iSUvkgo7qLd4TZ1wAHzDf4HdjQ2SFeGUJ9_Mw=s64",
      "userId": "16403905406855627329"
     },
     "user_tz": -180
    },
    "id": "3rCMASs3qhg-",
    "outputId": "9f61dd88-d0ba-43c8-b3d7-16bb20685c94"
   },
   "outputs": [
    {
     "name": "stdout",
     "output_type": "stream",
     "text": [
      "-----------------------------------------------\n",
      "Monobit Test P-Value = 0.0\n",
      "-----------------------------------------------\n",
      "Z-test Stats Value = 0.06327723141882918\n",
      "-----------------------------------------------\n",
      "Frequency Test P-Value: 6.597254963845854e-147\n"
     ]
    }
   ],
   "source": [
    "# Tests\n",
    "\n",
    "# Imports\n",
    "from fractions import Fraction\n",
    "from math import erfc\n",
    "import numpy as np\n",
    "import statistics\n",
    "\n",
    "#import our local script (tests_setup.py) for tests\n",
    "#from tests import *\n",
    "\n",
    "# Test 1: Monobit Test\n",
    "\n",
    "def monobitTest(data:str):\n",
    "\n",
    "    count = 0\n",
    "\n",
    "    for char in data:\n",
    "        if char == '0':\n",
    "            count -= 1\n",
    "        else:\n",
    "            count += 1\n",
    "\n",
    "    sobs = count / math.sqrt(len(bin_data))\n",
    "\n",
    "    p_val = erfc(math.fabs(sobs) / math.sqrt(2))\n",
    "\n",
    "    print(f'Monobit Test P-Value = {p_val}')\n",
    "\n",
    "    return p_val\n",
    "\n",
    "\n",
    "\n",
    "\n",
    "# Test 2: Runs Test\n",
    "\n",
    "def runsTest(data, data_median): \n",
    "  \n",
    "    runs, x, y = 0, 0, 0\n",
    "      \n",
    "    for i in range(len(data)): \n",
    "          \n",
    "        if (data[i] >= data_median and data[i-1] < data_median) or (data[i] < data_median and data[i-1] >= data_median): \n",
    "            runs += 1  \n",
    "          \n",
    "        if(data[i]) >= data_median: \n",
    "            x += 1   \n",
    "          \n",
    "        else: \n",
    "            y += 1   \n",
    "  \n",
    "    runs_exp = ((2*x*y)/(x+y))+1\n",
    "\n",
    "    stan_dev = np.sqrt((2*x*y*(2*x*y-x-y))/  \n",
    "                       (((x+y)**2)*(x+y-1))) \n",
    "  \n",
    "    z = (runs-runs_exp)/stan_dev \n",
    "\n",
    "    return z\n",
    "\n",
    "\n",
    "\n",
    "\n",
    "# Test 3: Frequency Test\n",
    "\n",
    "def frequencyTest(bin_data):\n",
    "\n",
    "    # Compute number of blocks M = block size. N = num of blocks (N = floor(n/M))\n",
    "    # miniumum block size 10 bits, most blocks 100\n",
    "    n = len(bin_data)\n",
    "\n",
    "    M = 10\n",
    "\n",
    "    N = int(math.floor(n/M))\n",
    "\n",
    "    if N > 99:\n",
    "\n",
    "        N=99\n",
    "\n",
    "        M = int(math.floor(n/N))\n",
    "\n",
    "    num_of_blocks = N\n",
    "\n",
    "    block_size = M \n",
    "\n",
    "    proportions = list()\n",
    "\n",
    "    for i in range(num_of_blocks):\n",
    "\n",
    "        block = bin_data[i*(block_size):((i+1)*(block_size))]\n",
    "\n",
    "        zeroes,ones = counts(block)\n",
    "\n",
    "        proportions.append(Fraction(ones,block_size))\n",
    "\n",
    "    chisq = 0.0\n",
    "\n",
    "    for prop in proportions:\n",
    "\n",
    "        chisq += 4.0*block_size*((prop - Fraction(1,2))**2)\n",
    "    \n",
    "    p = gammaincc((num_of_blocks/2.0),float(chisq)/2.0)\n",
    "\n",
    "    success = (p >= 0.01)\n",
    "\n",
    "    print (f'Frequency Test P-Value: {p}')\n",
    "\n",
    "    return \n",
    "\n",
    "def counts(data):\n",
    "\n",
    "    ones = 0\n",
    "\n",
    "    zeroes = 0\n",
    "\n",
    "    for bit in data:\n",
    "\n",
    "        if (bit == 1):\n",
    "\n",
    "            ones += 1\n",
    "\n",
    "        else:\n",
    "\n",
    "            zeroes += 1\n",
    "\n",
    "    return zeroes,ones\n",
    "\n",
    "\n",
    "# Output results of tests\n",
    "if __name__ == '__main__':\n",
    "\n",
    "    #print(f'Random Numbers Array: {data}')\n",
    "    print('-----------------------------------------------')\n",
    "    monobitTest(bin_data)\n",
    "    print('-----------------------------------------------')\n",
    "    Z = runsTest(data, data_median)\n",
    "    print(f'Z-test Stats Value = {Z}')\n",
    "    print('-----------------------------------------------')\n",
    "    frequencyTest(data)\n"
   ]
  }
 ],
 "metadata": {
  "colab": {
   "authorship_tag": "ABX9TyPglYKqt+UY8uH+M6lkBEXi",
   "collapsed_sections": [],
   "name": "prngs.ipynb",
   "provenance": []
  },
  "kernelspec": {
   "display_name": "Python 3 (ipykernel)",
   "language": "python",
   "name": "python3"
  },
  "language_info": {
   "codemirror_mode": {
    "name": "ipython",
    "version": 3
   },
   "file_extension": ".py",
   "mimetype": "text/x-python",
   "name": "python",
   "nbconvert_exporter": "python",
   "pygments_lexer": "ipython3",
   "version": "3.9.9"
  }
 },
 "nbformat": 4,
 "nbformat_minor": 1
}
